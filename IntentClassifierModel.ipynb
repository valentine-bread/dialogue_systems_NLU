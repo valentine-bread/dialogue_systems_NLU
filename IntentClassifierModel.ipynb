{
 "cells": [
  {
   "cell_type": "code",
   "execution_count": 1,
   "metadata": {},
   "outputs": [],
   "source": [
    "# !pip -qq install torchtext==0.3.1\n",
    "# !git clone https://github.com/MiuLab/SlotGated-SLU.git\n",
    "# !wget -qq https://raw.githubusercontent.com/yandexdataschool/nlp_course/master/week08_multitask/conlleval.py\n"
   ]
  },
  {
   "cell_type": "code",
   "execution_count": 2,
   "metadata": {},
   "outputs": [
    {
     "name": "stderr",
     "output_type": "stream",
     "text": [
      "c:\\Study\\Dialogue_systems\\env\\lib\\site-packages\\tqdm\\auto.py:22: TqdmWarning: IProgress not found. Please update jupyter and ipywidgets. See https://ipywidgets.readthedocs.io/en/stable/user_install.html\n",
      "  from .autonotebook import tqdm as notebook_tqdm\n"
     ]
    },
    {
     "data": {
      "text/plain": [
       "device(type='cuda', index=0)"
      ]
     },
     "execution_count": 2,
     "metadata": {},
     "output_type": "execute_result"
    }
   ],
   "source": [
    "import numpy as np\n",
    "\n",
    "import torch\n",
    "import torch.nn as nn\n",
    "import torch.nn.functional as F\n",
    "import torch.optim as optim\n",
    "\n",
    "if torch.cuda.is_available():\n",
    "    from torch.cuda import FloatTensor, LongTensor\n",
    "    DEVICE = torch.device('cuda:0')\n",
    "else:\n",
    "    from torch import FloatTensor, LongTensor\n",
    "    DEVICE = torch.device('cpu')\n",
    "\n",
    "np.random.seed(42)\n",
    "DEVICE"
   ]
  },
  {
   "cell_type": "code",
   "execution_count": 3,
   "metadata": {},
   "outputs": [
    {
     "name": "stdout",
     "output_type": "stream",
     "text": [
      "Vocab size = 869\n",
      "Tags count = 121\n",
      "Intents count = 21\n"
     ]
    }
   ],
   "source": [
    "import os \n",
    "\n",
    "def read_dataset(path):\n",
    "    with open(os.path.join(path, 'seq.in')) as f_words, \\\n",
    "            open(os.path.join(path, 'seq.out')) as f_tags, \\\n",
    "            open(os.path.join(path, 'label')) as f_intents:\n",
    "        \n",
    "        return [\n",
    "            (words.strip().split(), tags.strip().split(), intent.strip()) \n",
    "            for words, tags, intent in zip(f_words, f_tags, f_intents)\n",
    "        ]\n",
    "train_data = read_dataset('SlotGated-SLU/data/atis/train/')\n",
    "val_data = read_dataset('SlotGated-SLU/data/atis/valid/')\n",
    "test_data = read_dataset('SlotGated-SLU/data/atis/test/')\n",
    "\n",
    "intent_to_example = {example[2]: example for example in train_data}\n",
    "# for example in intent_to_example.values():\n",
    "#     print('Intent:\\t', example[2])\n",
    "#     print('Text:\\t', '\\t'.join(example[0]))\n",
    "#     print('Tags:\\t', '\\t'.join(example[1]))\n",
    "#     print()\n",
    "    \n",
    "from torchtext.data import Field, LabelField, Example, Dataset, BucketIterator\n",
    "\n",
    "tokens_field = Field()\n",
    "tags_field = Field(unk_token=None)\n",
    "intent_field = LabelField()\n",
    "\n",
    "fields = [('tokens', tokens_field), ('tags', tags_field), ('intent', intent_field)]\n",
    "\n",
    "train_dataset = Dataset([Example.fromlist(example, fields) for example in train_data], fields)\n",
    "val_dataset = Dataset([Example.fromlist(example, fields) for example in val_data], fields)\n",
    "test_dataset = Dataset([Example.fromlist(example, fields) for example in test_data], fields)\n",
    "\n",
    "tokens_field.build_vocab(train_dataset)\n",
    "tags_field.build_vocab(train_dataset)\n",
    "intent_field.build_vocab(train_dataset)\n",
    "\n",
    "print('Vocab size =', len(tokens_field.vocab))\n",
    "print('Tags count =', len(tags_field.vocab))\n",
    "print('Intents count =', len(intent_field.vocab))\n",
    "\n",
    "train_iter, val_iter, test_iter = BucketIterator.splits(\n",
    "    datasets=(train_dataset, val_dataset, test_dataset), batch_sizes=(32, 128, 128), \n",
    "    shuffle=True, device=DEVICE, sort=False\n",
    ")"
   ]
  },
  {
   "cell_type": "code",
   "execution_count": 4,
   "metadata": {},
   "outputs": [],
   "source": [
    "class IntentClassifierModel(nn.Module):\n",
    "    def __init__(self, vocab_size, intents_count, emb_dim=64, lstm_hidden_dim=128, num_layers=1, dropout_p=0.2):\n",
    "        super().__init__()\n",
    "\n",
    "        self.embeddings_layer = nn.Embedding(vocab_size, emb_dim)\n",
    "        self.dropout = nn.Dropout(dropout_p)\n",
    "        self.lstm_layer = nn.LSTM(input_size=emb_dim, hidden_size=lstm_hidden_dim, bidirectional=True, num_layers=num_layers, batch_first=True)\n",
    "        self.out_layer = nn.Linear(lstm_hidden_dim * 2, intents_count)\n",
    "\n",
    "    def forward(self, inputs):\n",
    "        projections = self.embeddings_layer(inputs)\n",
    "        _, (final_hidden_state, _) = self.lstm_layer(projections)\n",
    "        # print(output.shape)\n",
    "        hidden = self.dropout(torch.cat([final_hidden_state[0], final_hidden_state[1]], dim=1))\n",
    "        output = self.out_layer(hidden)\n",
    "        return output"
   ]
  },
  {
   "cell_type": "code",
   "execution_count": 5,
   "metadata": {},
   "outputs": [],
   "source": [
    "class ModelTrainer():\n",
    "    def __init__(self, model, criterion, optimizer):\n",
    "        self.model = model\n",
    "        self.criterion = criterion\n",
    "        self.optimizer = optimizer\n",
    "        \n",
    "    def on_epoch_begin(self, is_train, name, batches_count):\n",
    "        \"\"\"\n",
    "        Initializes metrics\n",
    "        \"\"\"\n",
    "        self.epoch_loss = 0\n",
    "        self.correct_count, self.total_count = 0, 0\n",
    "        self.is_train = is_train\n",
    "        self.name = name\n",
    "        self.batches_count = batches_count\n",
    "        \n",
    "        self.model.train(is_train)\n",
    "        \n",
    "    def on_epoch_end(self):\n",
    "        \"\"\"\n",
    "        Outputs final metrics\n",
    "        \"\"\"\n",
    "        return '{:>5s} Loss = {:.5f}, Accuracy = {:.2%}'.format(\n",
    "            self.name, self.epoch_loss / self.batches_count, self.correct_count / self.total_count\n",
    "        )\n",
    "        \n",
    "    def on_batch(self, batch):\n",
    "        \"\"\"\n",
    "        Performs forward and (if is_train) backward pass with optimization, updates metrics\n",
    "        \"\"\"\n",
    "        logits = self.model(batch.tokens.transpose(0, 1))\n",
    "\n",
    "        loss = self.criterion(logits, batch.intent)\n",
    "        \n",
    "        predicted_intent = logits.argmax(dim=1)\n",
    "        self.total_count += predicted_intent.size(0)\n",
    "        self.correct_count += torch.sum(predicted_intent == batch.intent).item()\n",
    "\n",
    "        if self.is_train:\n",
    "            loss.backward()\n",
    "            self.optimizer.step()\n",
    "            self.optimizer.zero_grad()\n",
    "        self.epoch_loss += loss.item()\n",
    "        \n",
    "import math\n",
    "from tqdm import tqdm\n",
    "tqdm.get_lock().locks = []\n",
    "\n",
    "\n",
    "def do_epoch(trainer, data_iter, is_train, name=None):\n",
    "    trainer.on_epoch_begin(is_train, name, batches_count=len(data_iter))\n",
    "    \n",
    "    with torch.autograd.set_grad_enabled(is_train):\n",
    "        with tqdm(total=trainer.batches_count) as progress_bar:\n",
    "            for i, batch in enumerate(data_iter):\n",
    "                batch_progress = trainer.on_batch(batch)\n",
    "\n",
    "                progress_bar.update()\n",
    "                progress_bar.set_description(batch_progress)\n",
    "                \n",
    "            epoch_progress = trainer.on_epoch_end()\n",
    "            progress_bar.set_description(epoch_progress)\n",
    "            progress_bar.refresh()\n",
    "\n",
    "            \n",
    "def fit(trainer, train_iter, epochs_count=1, val_iter=None):\n",
    "    best_val_loss = None\n",
    "    for epoch in range(epochs_count):\n",
    "        name_prefix = '[{} / {}] '.format(epoch + 1, epochs_count)\n",
    "        do_epoch(trainer, train_iter, is_train=True, name=name_prefix + 'Train:')\n",
    "        \n",
    "        if not val_iter is None:\n",
    "            do_epoch(trainer, val_iter, is_train=False, name=name_prefix + '  Val:')"
   ]
  },
  {
   "cell_type": "code",
   "execution_count": 6,
   "metadata": {},
   "outputs": [
    {
     "name": "stderr",
     "output_type": "stream",
     "text": [
      "[1 / 30] Train: Loss = 0.88309, Accuracy = 79.41%: 100%|██████████| 140/140 [00:01<00:00, 104.95it/s]\n",
      "[1 / 30]   Val: Loss = 0.57138, Accuracy = 84.60%: 100%|██████████| 4/4 [00:00<00:00, 100.00it/s]\n",
      "[2 / 30] Train: Loss = 0.36838, Accuracy = 90.87%: 100%|██████████| 140/140 [00:01<00:00, 122.91it/s]\n",
      "[2 / 30]   Val: Loss = 0.34991, Accuracy = 90.20%: 100%|██████████| 4/4 [00:00<00:00, 133.34it/s]\n",
      "[3 / 30] Train: Loss = 0.21992, Accuracy = 94.26%: 100%|██████████| 140/140 [00:01<00:00, 120.17it/s]\n",
      "[3 / 30]   Val: Loss = 0.25203, Accuracy = 93.20%: 100%|██████████| 4/4 [00:00<00:00, 133.35it/s]\n",
      "[4 / 30] Train: Loss = 0.14143, Accuracy = 96.36%: 100%|██████████| 140/140 [00:01<00:00, 120.48it/s]\n",
      "[4 / 30]   Val: Loss = 0.21186, Accuracy = 94.80%: 100%|██████████| 4/4 [00:00<00:00, 129.03it/s]\n",
      "[5 / 30] Train: Loss = 0.09801, Accuracy = 97.45%: 100%|██████████| 140/140 [00:01<00:00, 121.21it/s]\n",
      "[5 / 30]   Val: Loss = 0.18984, Accuracy = 96.20%: 100%|██████████| 4/4 [00:00<00:00, 133.34it/s]\n",
      "[6 / 30] Train: Loss = 0.06315, Accuracy = 98.66%: 100%|██████████| 140/140 [00:01<00:00, 116.38it/s]\n",
      "[6 / 30]   Val: Loss = 0.17939, Accuracy = 96.00%: 100%|██████████| 4/4 [00:00<00:00, 117.65it/s]\n",
      "[7 / 30] Train: Loss = 0.04385, Accuracy = 99.13%: 100%|██████████| 140/140 [00:01<00:00, 121.95it/s]\n",
      "[7 / 30]   Val: Loss = 0.18530, Accuracy = 95.80%: 100%|██████████| 4/4 [00:00<00:00, 128.95it/s]\n",
      "[8 / 30] Train: Loss = 0.03734, Accuracy = 99.17%: 100%|██████████| 140/140 [00:01<00:00, 125.00it/s]\n",
      "[8 / 30]   Val: Loss = 0.16391, Accuracy = 96.80%: 100%|██████████| 4/4 [00:00<00:00, 133.33it/s]\n",
      "[9 / 30] Train: Loss = 0.03253, Accuracy = 99.33%: 100%|██████████| 140/140 [00:01<00:00, 129.39it/s]\n",
      "[9 / 30]   Val: Loss = 0.17493, Accuracy = 96.40%: 100%|██████████| 4/4 [00:00<00:00, 133.33it/s]\n",
      "[10 / 30] Train: Loss = 0.01854, Accuracy = 99.67%: 100%|██████████| 140/140 [00:01<00:00, 127.39it/s]\n",
      "[10 / 30]   Val: Loss = 0.16834, Accuracy = 96.80%: 100%|██████████| 4/4 [00:00<00:00, 133.32it/s]\n",
      "[11 / 30] Train: Loss = 0.00906, Accuracy = 99.91%: 100%|██████████| 140/140 [00:01<00:00, 126.02it/s]\n",
      "[11 / 30]   Val: Loss = 0.17602, Accuracy = 96.60%: 100%|██████████| 4/4 [00:00<00:00, 133.32it/s]\n",
      "[12 / 30] Train: Loss = 0.00932, Accuracy = 99.91%: 100%|██████████| 140/140 [00:01<00:00, 125.45it/s]\n",
      "[12 / 30]   Val: Loss = 0.17501, Accuracy = 96.40%: 100%|██████████| 4/4 [00:00<00:00, 137.92it/s]\n",
      "[13 / 30] Train: Loss = 0.00548, Accuracy = 99.89%: 100%|██████████| 140/140 [00:01<00:00, 125.34it/s]\n",
      "[13 / 30]   Val: Loss = 0.16634, Accuracy = 96.60%: 100%|██████████| 4/4 [00:00<00:00, 142.86it/s]\n",
      "[14 / 30] Train: Loss = 0.00416, Accuracy = 99.93%: 100%|██████████| 140/140 [00:01<00:00, 123.46it/s]\n",
      "[14 / 30]   Val: Loss = 0.16788, Accuracy = 96.20%: 100%|██████████| 4/4 [00:00<00:00, 129.02it/s]\n",
      "[15 / 30] Train: Loss = 0.00299, Accuracy = 99.98%: 100%|██████████| 140/140 [00:01<00:00, 121.63it/s]\n",
      "[15 / 30]   Val: Loss = 0.17924, Accuracy = 96.40%: 100%|██████████| 4/4 [00:00<00:00, 133.25it/s]\n",
      "[16 / 30] Train: Loss = 0.00223, Accuracy = 100.00%: 100%|██████████| 140/140 [00:01<00:00, 126.93it/s]\n",
      "[16 / 30]   Val: Loss = 0.18795, Accuracy = 96.40%: 100%|██████████| 4/4 [00:00<00:00, 133.33it/s]\n",
      "[17 / 30] Train: Loss = 0.00200, Accuracy = 100.00%: 100%|██████████| 140/140 [00:01<00:00, 127.16it/s]\n",
      "[17 / 30]   Val: Loss = 0.18323, Accuracy = 96.20%: 100%|██████████| 4/4 [00:00<00:00, 142.71it/s]\n",
      "[18 / 30] Train: Loss = 0.00147, Accuracy = 100.00%: 100%|██████████| 140/140 [00:01<00:00, 122.70it/s]\n",
      "[18 / 30]   Val: Loss = 0.18298, Accuracy = 96.20%: 100%|██████████| 4/4 [00:00<00:00, 108.10it/s]\n",
      "[19 / 30] Train: Loss = 0.00132, Accuracy = 100.00%: 100%|██████████| 140/140 [00:01<00:00, 119.56it/s]\n",
      "[19 / 30]   Val: Loss = 0.18634, Accuracy = 96.00%: 100%|██████████| 4/4 [00:00<00:00, 111.11it/s]\n",
      "[20 / 30] Train: Loss = 0.00115, Accuracy = 100.00%: 100%|██████████| 140/140 [00:01<00:00, 114.38it/s]\n",
      "[20 / 30]   Val: Loss = 0.19346, Accuracy = 96.40%: 100%|██████████| 4/4 [00:00<00:00, 108.10it/s]\n",
      "[21 / 30] Train: Loss = 0.00117, Accuracy = 100.00%: 100%|██████████| 140/140 [00:01<00:00, 111.73it/s]\n",
      "[21 / 30]   Val: Loss = 0.19383, Accuracy = 96.60%: 100%|██████████| 4/4 [00:00<00:00, 148.15it/s]\n",
      "[22 / 30] Train: Loss = 0.00072, Accuracy = 100.00%: 100%|██████████| 140/140 [00:01<00:00, 119.45it/s]\n",
      "[22 / 30]   Val: Loss = 0.18953, Accuracy = 96.40%: 100%|██████████| 4/4 [00:00<00:00, 117.64it/s]\n",
      "[23 / 30] Train: Loss = 0.00072, Accuracy = 100.00%: 100%|██████████| 140/140 [00:01<00:00, 121.32it/s]\n",
      "[23 / 30]   Val: Loss = 0.19549, Accuracy = 96.20%: 100%|██████████| 4/4 [00:00<00:00, 137.94it/s]\n",
      "[24 / 30] Train: Loss = 0.00052, Accuracy = 100.00%: 100%|██████████| 140/140 [00:01<00:00, 116.76it/s]\n",
      "[24 / 30]   Val: Loss = 0.19524, Accuracy = 96.20%: 100%|██████████| 4/4 [00:00<00:00, 142.86it/s]\n",
      "[25 / 30] Train: Loss = 0.00054, Accuracy = 100.00%: 100%|██████████| 140/140 [00:01<00:00, 120.69it/s]\n",
      "[25 / 30]   Val: Loss = 0.19792, Accuracy = 96.20%: 100%|██████████| 4/4 [00:00<00:00, 137.92it/s]\n",
      "[26 / 30] Train: Loss = 0.00045, Accuracy = 100.00%: 100%|██████████| 140/140 [00:01<00:00, 121.95it/s]\n",
      "[26 / 30]   Val: Loss = 0.20020, Accuracy = 96.20%: 100%|██████████| 4/4 [00:00<00:00, 142.85it/s]\n",
      "[27 / 30] Train: Loss = 0.00079, Accuracy = 99.98%: 100%|██████████| 140/140 [00:01<00:00, 119.45it/s]\n",
      "[27 / 30]   Val: Loss = 0.21164, Accuracy = 95.80%: 100%|██████████| 4/4 [00:00<00:00, 142.86it/s]\n",
      "[28 / 30] Train: Loss = 0.00042, Accuracy = 100.00%: 100%|██████████| 140/140 [00:01<00:00, 121.11it/s]\n",
      "[28 / 30]   Val: Loss = 0.20489, Accuracy = 96.00%: 100%|██████████| 4/4 [00:00<00:00, 148.15it/s]\n",
      "[29 / 30] Train: Loss = 0.00034, Accuracy = 100.00%: 100%|██████████| 140/140 [00:01<00:00, 123.68it/s]\n",
      "[29 / 30]   Val: Loss = 0.21073, Accuracy = 96.00%: 100%|██████████| 4/4 [00:00<00:00, 142.86it/s]\n",
      "[30 / 30] Train: Loss = 0.00032, Accuracy = 100.00%: 100%|██████████| 140/140 [00:01<00:00, 122.06it/s]\n",
      "[30 / 30]   Val: Loss = 0.21687, Accuracy = 95.80%: 100%|██████████| 4/4 [00:00<00:00, 148.15it/s]\n"
     ]
    }
   ],
   "source": [
    "model = IntentClassifierModel(vocab_size=len(tokens_field.vocab), intents_count=len(intent_field.vocab)).to(DEVICE)\n",
    "\n",
    "criterion = nn.CrossEntropyLoss().to(DEVICE)\n",
    "optimizer = optim.Adam(model.parameters())\n",
    "\n",
    "trainer = ModelTrainer(model, criterion, optimizer)\n",
    "\n",
    "fit(trainer, train_iter, epochs_count=30, val_iter=val_iter)\n",
    "\n",
    "torch.save(trainer, 'IntentClassifierModel.pt')"
   ]
  },
  {
   "cell_type": "code",
   "execution_count": 8,
   "metadata": {},
   "outputs": [
    {
     "name": "stderr",
     "output_type": "stream",
     "text": [
      "Test: Loss = 0.35753, Accuracy = 94.74%: 100%|██████████| 7/7 [00:00<00:00, 134.62it/s]\n"
     ]
    }
   ],
   "source": [
    "do_epoch(trainer, test_iter, is_train=False, name='Test:')"
   ]
  }
 ],
 "metadata": {
  "kernelspec": {
   "display_name": "Python 3.10.5 ('env': venv)",
   "language": "python",
   "name": "python3"
  },
  "language_info": {
   "codemirror_mode": {
    "name": "ipython",
    "version": 3
   },
   "file_extension": ".py",
   "mimetype": "text/x-python",
   "name": "python",
   "nbconvert_exporter": "python",
   "pygments_lexer": "ipython3",
   "version": "3.10.5"
  },
  "orig_nbformat": 4,
  "vscode": {
   "interpreter": {
    "hash": "8cb139c522e4819e3d090dc8ad216bec05e65d93fe5d3ba0b78a4e6871c48307"
   }
  }
 },
 "nbformat": 4,
 "nbformat_minor": 2
}
