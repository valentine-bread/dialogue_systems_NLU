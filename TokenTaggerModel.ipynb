{
 "cells": [
  {
   "cell_type": "code",
   "execution_count": 15,
   "metadata": {},
   "outputs": [
    {
     "name": "stderr",
     "output_type": "stream",
     "text": [
      "\"wget\" �� ���� ����७��� ��� ���譥�\n",
      "��������, �ᯮ��塞�� �ணࠬ��� ��� ������ 䠩���.\n"
     ]
    }
   ],
   "source": [
    "# !pip -qq install torchtext==0.3.1\n",
    "# !git clone https://github.com/MiuLab/SlotGated-SLU.git\n",
    "!wget -qq https://raw.githubusercontent.com/yandexdataschool/nlp_course/master/week08_multitask/conlleval.py"
   ]
  },
  {
   "cell_type": "code",
   "execution_count": 16,
   "metadata": {},
   "outputs": [
    {
     "data": {
      "text/plain": [
       "device(type='cuda', index=0)"
      ]
     },
     "execution_count": 16,
     "metadata": {},
     "output_type": "execute_result"
    }
   ],
   "source": [
    "import numpy as np\n",
    "\n",
    "import torch, random\n",
    "import torch.nn as nn\n",
    "import torch.nn.functional as F\n",
    "import torch.optim as optim\n",
    "\n",
    "if torch.cuda.is_available():\n",
    "    from torch.cuda import FloatTensor, LongTensor\n",
    "    DEVICE = torch.device('cuda:0')\n",
    "else:\n",
    "    from torch import FloatTensor, LongTensor\n",
    "    DEVICE = torch.device('cpu')\n",
    "\n",
    "SEED = 1234\n",
    "\n",
    "random.seed(SEED)\n",
    "np.random.seed(SEED)\n",
    "torch.manual_seed(SEED)\n",
    "torch.backends.cudnn.deterministic = True\n",
    "\n",
    "DEVICE"
   ]
  },
  {
   "cell_type": "code",
   "execution_count": 17,
   "metadata": {},
   "outputs": [
    {
     "name": "stdout",
     "output_type": "stream",
     "text": [
      "Vocab size = 869\n",
      "Tags count = 121\n",
      "Intents count = 21\n"
     ]
    }
   ],
   "source": [
    "import os \n",
    "\n",
    "def read_dataset(path):\n",
    "    with open(os.path.join(path, 'seq.in')) as f_words, \\\n",
    "            open(os.path.join(path, 'seq.out')) as f_tags, \\\n",
    "            open(os.path.join(path, 'label')) as f_intents:\n",
    "        \n",
    "        return [\n",
    "            (words.strip().split(), tags.strip().split(), intent.strip()) \n",
    "            for words, tags, intent in zip(f_words, f_tags, f_intents)\n",
    "        ]\n",
    "train_data = read_dataset('SlotGated-SLU/data/atis/train/')\n",
    "val_data = read_dataset('SlotGated-SLU/data/atis/valid/')\n",
    "test_data = read_dataset('SlotGated-SLU/data/atis/test/')\n",
    "\n",
    "intent_to_example = {example[2]: example for example in train_data}\n",
    "# for example in intent_to_example.values():\n",
    "#     print('Intent:\\t', example[2])\n",
    "#     print('Text:\\t', '\\t'.join(example[0]))\n",
    "#     print('Tags:\\t', '\\t'.join(example[1]))\n",
    "#     print()\n",
    "    \n",
    "from torchtext.data import Field, LabelField, Example, Dataset, BucketIterator\n",
    "\n",
    "tokens_field = Field()\n",
    "tags_field = Field(unk_token=None)\n",
    "intent_field = LabelField()\n",
    "\n",
    "fields = [('tokens', tokens_field), ('tags', tags_field), ('intent', intent_field)]\n",
    "\n",
    "train_dataset = Dataset([Example.fromlist(example, fields) for example in train_data], fields)\n",
    "val_dataset = Dataset([Example.fromlist(example, fields) for example in val_data], fields)\n",
    "test_dataset = Dataset([Example.fromlist(example, fields) for example in test_data], fields)\n",
    "\n",
    "tokens_field.build_vocab(train_dataset)\n",
    "tags_field.build_vocab(train_dataset)\n",
    "intent_field.build_vocab(train_dataset)\n",
    "\n",
    "print('Vocab size =', len(tokens_field.vocab))\n",
    "print('Tags count =', len(tags_field.vocab))\n",
    "print('Intents count =', len(intent_field.vocab))\n",
    "\n",
    "train_iter, val_iter, test_iter = BucketIterator.splits(\n",
    "    datasets=(train_dataset, val_dataset, test_dataset), batch_sizes=(32, 128, 128), \n",
    "    shuffle=True, device=DEVICE, sort=False\n",
    ")"
   ]
  },
  {
   "cell_type": "code",
   "execution_count": 18,
   "metadata": {},
   "outputs": [],
   "source": [
    "class TokenTaggerModel(nn.Module):\n",
    "    def __init__(self, vocab_size, tags_count, emb_dim=64, lstm_hidden_dim=128, num_layers=2, dropout_p=0.25, pad_idx = 0):\n",
    "        super().__init__()\n",
    "        \n",
    "        self.embeddings_layer = nn.Embedding(vocab_size, emb_dim, padding_idx = pad_idx)\n",
    "        self.dropout = nn.Dropout(dropout_p)\n",
    "        self.lstm_layer = nn.LSTM(input_size=emb_dim, hidden_size=lstm_hidden_dim, bidirectional=True, num_layers=num_layers, batch_first=True, dropout = dropout_p if num_layers > 1 else 0)\n",
    "        self.out_layer = nn.Linear(lstm_hidden_dim * 2, tags_count)\n",
    "\n",
    "    def forward(self, inputs):\n",
    "        projections =  self.dropout(self.embeddings_layer(inputs))\n",
    "        output_lstm, (_, _) = self.lstm_layer(projections)\n",
    "        \n",
    "        output = self.dropout(output_lstm)\n",
    "\n",
    "        output = self.out_layer(output)\n",
    "        # output = self.out_layer(output_lstm)\n",
    "        return output"
   ]
  },
  {
   "cell_type": "code",
   "execution_count": 26,
   "metadata": {},
   "outputs": [],
   "source": [
    "class ModelTrainer_Trigger():\n",
    "    def __init__(self, model, criterion, optimizer, pad_idx):\n",
    "        self.model = model\n",
    "        self.criterion = criterion\n",
    "        self.optimizer = optimizer\n",
    "        self.pad_idx = pad_idx\n",
    "        self.best_valid_loss = float('inf')\n",
    "        \n",
    "    def on_epoch_begin(self, is_train, name, batches_count):\n",
    "        \"\"\"\n",
    "        Initializes metrics\n",
    "        \"\"\"\n",
    "        self.epoch_loss = 0\n",
    "        self.correct_count, self.total_count = 0, 0\n",
    "        self.is_train = is_train\n",
    "        self.name = name\n",
    "        self.batches_count = batches_count\n",
    "        \n",
    "        self.model.train(is_train)\n",
    "        \n",
    "    def on_epoch_end(self):\n",
    "        \"\"\"\n",
    "        Outputs final metrics\n",
    "        \"\"\"\n",
    "        valid_loss = self.epoch_loss / self.batches_count\n",
    "        if not(self.is_train) and valid_loss < self.best_valid_loss:\n",
    "            self.best_valid_loss = valid_loss\n",
    "            torch.save(self.model, 'TokenTaggerModel.pt')\n",
    "            \n",
    "        return '{:>5s} Loss = {:.5f}, Accuracy = {:.2%}'.format(\n",
    "            self.name, self.epoch_loss / self.batches_count, self.correct_count / self.total_count\n",
    "        )\n",
    "        \n",
    "    def on_batch(self, batch):\n",
    "        \"\"\"\n",
    "        Performs forward and (if is_train) backward pass with optimization, updates metrics\n",
    "        \"\"\"\n",
    "        \n",
    "        logits = self.model(batch.tokens.transpose(0, 1))\n",
    "        \n",
    "        logits = logits.transpose(0, 1)       \n",
    "        logits = logits.reshape((-1,logits.shape[2]))\n",
    "        tags = batch.tags.reshape((-1))\n",
    "        loss = self.criterion(logits, tags)\n",
    "      \n",
    "        max_preds = logits.argmax(dim = 1) \n",
    "        non_pad_elements = (tags != self.pad_idx).nonzero()\n",
    "        correct = torch.sum(max_preds[non_pad_elements] == tags[non_pad_elements]).item()\n",
    "        self.correct_count += correct\n",
    "        self.total_count += tags[non_pad_elements].shape[0]\n",
    "        \n",
    "        if self.is_train:\n",
    "            loss.backward()\n",
    "            self.optimizer.step()\n",
    "            self.optimizer.zero_grad()\n",
    "        self.epoch_loss += loss.item()\n",
    "        \n",
    "import math\n",
    "from tqdm import tqdm\n",
    "tqdm.get_lock().locks = []\n",
    "\n",
    "\n",
    "def do_epoch(trainer, data_iter, is_train, name=None):\n",
    "    trainer.on_epoch_begin(is_train, name, batches_count=len(data_iter))\n",
    "    \n",
    "    with torch.autograd.set_grad_enabled(is_train):\n",
    "        with tqdm(total=trainer.batches_count) as progress_bar:\n",
    "            for i, batch in enumerate(data_iter):\n",
    "                batch_progress = trainer.on_batch(batch)\n",
    "\n",
    "                progress_bar.update()\n",
    "                progress_bar.set_description(batch_progress)\n",
    "                \n",
    "            epoch_progress = trainer.on_epoch_end()\n",
    "            progress_bar.set_description(epoch_progress)\n",
    "            progress_bar.refresh()\n",
    "\n",
    "            \n",
    "def fit(trainer, train_iter, epochs_count=1, val_iter=None):\n",
    "    best_val_loss = None\n",
    "    for epoch in range(epochs_count):\n",
    "        name_prefix = '[{} / {}] '.format(epoch + 1, epochs_count)\n",
    "        do_epoch(trainer, train_iter, is_train=True, name=name_prefix + 'Train:')\n",
    "        \n",
    "        if not val_iter is None:\n",
    "            do_epoch(trainer, val_iter, is_train=False, name=name_prefix + '  Val:')"
   ]
  },
  {
   "cell_type": "code",
   "execution_count": 27,
   "metadata": {},
   "outputs": [
    {
     "name": "stderr",
     "output_type": "stream",
     "text": [
      "[1 / 30] Train: Loss = 1.55194, Accuracy = 70.88%: 100%|██████████| 140/140 [00:01<00:00, 78.78it/s]\n",
      "[1 / 30]   Val: Loss = 0.83132, Accuracy = 81.73%: 100%|██████████| 4/4 [00:00<00:00, 74.08it/s]\n",
      "[2 / 30] Train: Loss = 0.63961, Accuracy = 85.89%: 100%|██████████| 140/140 [00:01<00:00, 83.14it/s]\n",
      "[2 / 30]   Val: Loss = 0.47160, Accuracy = 90.34%: 100%|██████████| 4/4 [00:00<00:00, 71.43it/s]\n",
      "[3 / 30] Train: Loss = 0.38081, Accuracy = 91.60%: 100%|██████████| 140/140 [00:01<00:00, 83.33it/s]\n",
      "[3 / 30]   Val: Loss = 0.30639, Accuracy = 93.32%: 100%|██████████| 4/4 [00:00<00:00, 76.92it/s]\n",
      "[4 / 30] Train: Loss = 0.25671, Accuracy = 94.20%: 100%|██████████| 140/140 [00:01<00:00, 83.23it/s]\n",
      "[4 / 30]   Val: Loss = 0.22243, Accuracy = 94.70%: 100%|██████████| 4/4 [00:00<00:00, 74.07it/s]\n",
      "[5 / 30] Train: Loss = 0.18549, Accuracy = 95.74%: 100%|██████████| 140/140 [00:01<00:00, 83.93it/s]\n",
      "[5 / 30]   Val: Loss = 0.17797, Accuracy = 95.84%: 100%|██████████| 4/4 [00:00<00:00, 68.97it/s]\n",
      "[6 / 30] Train: Loss = 0.14612, Accuracy = 96.69%: 100%|██████████| 140/140 [00:01<00:00, 84.49it/s]\n",
      "[6 / 30]   Val: Loss = 0.15042, Accuracy = 96.28%: 100%|██████████| 4/4 [00:00<00:00, 75.47it/s]\n",
      "[7 / 30] Train: Loss = 0.11575, Accuracy = 97.33%: 100%|██████████| 140/140 [00:01<00:00, 83.63it/s]\n",
      "[7 / 30]   Val: Loss = 0.12139, Accuracy = 97.26%: 100%|██████████| 4/4 [00:00<00:00, 71.43it/s]\n",
      "[8 / 30] Train: Loss = 0.09361, Accuracy = 97.79%: 100%|██████████| 140/140 [00:01<00:00, 81.68it/s]\n",
      "[8 / 30]   Val: Loss = 0.10544, Accuracy = 97.70%: 100%|██████████| 4/4 [00:00<00:00, 64.52it/s]\n",
      "[9 / 30] Train: Loss = 0.07714, Accuracy = 98.23%: 100%|██████████| 140/140 [00:01<00:00, 85.47it/s]\n",
      "[9 / 30]   Val: Loss = 0.09555, Accuracy = 98.02%: 100%|██████████| 4/4 [00:00<00:00, 74.03it/s]\n",
      "[10 / 30] Train: Loss = 0.06477, Accuracy = 98.49%: 100%|██████████| 140/140 [00:01<00:00, 86.42it/s]\n",
      "[10 / 30]   Val: Loss = 0.09271, Accuracy = 97.93%: 100%|██████████| 4/4 [00:00<00:00, 71.43it/s]\n",
      "[11 / 30] Train: Loss = 0.05515, Accuracy = 98.73%: 100%|██████████| 140/140 [00:01<00:00, 85.68it/s]\n",
      "[11 / 30]   Val: Loss = 0.08052, Accuracy = 98.19%: 100%|██████████| 4/4 [00:00<00:00, 72.73it/s]\n",
      "[12 / 30] Train: Loss = 0.04978, Accuracy = 98.82%: 100%|██████████| 140/140 [00:01<00:00, 86.90it/s]\n",
      "[12 / 30]   Val: Loss = 0.07274, Accuracy = 98.28%: 100%|██████████| 4/4 [00:00<00:00, 74.08it/s]\n",
      "[13 / 30] Train: Loss = 0.04310, Accuracy = 98.99%: 100%|██████████| 140/140 [00:01<00:00, 86.21it/s]\n",
      "[13 / 30]   Val: Loss = 0.07381, Accuracy = 98.21%: 100%|██████████| 4/4 [00:00<00:00, 83.39it/s]\n",
      "[14 / 30] Train: Loss = 0.03629, Accuracy = 99.13%: 100%|██████████| 140/140 [00:01<00:00, 85.31it/s]\n",
      "[14 / 30]   Val: Loss = 0.06820, Accuracy = 98.39%: 100%|██████████| 4/4 [00:00<00:00, 76.92it/s]\n",
      "[15 / 30] Train: Loss = 0.03272, Accuracy = 99.19%: 100%|██████████| 140/140 [00:01<00:00, 86.63it/s]\n",
      "[15 / 30]   Val: Loss = 0.06692, Accuracy = 98.33%: 100%|██████████| 4/4 [00:00<00:00, 75.47it/s]\n",
      "[16 / 30] Train: Loss = 0.02730, Accuracy = 99.32%: 100%|██████████| 140/140 [00:01<00:00, 88.38it/s]\n",
      "[16 / 30]   Val: Loss = 0.06718, Accuracy = 98.35%: 100%|██████████| 4/4 [00:00<00:00, 83.32it/s]\n",
      "[17 / 30] Train: Loss = 0.02545, Accuracy = 99.39%: 100%|██████████| 140/140 [00:01<00:00, 88.27it/s]\n",
      "[17 / 30]   Val: Loss = 0.06169, Accuracy = 98.51%: 100%|██████████| 4/4 [00:00<00:00, 75.47it/s]\n",
      "[18 / 30] Train: Loss = 0.02183, Accuracy = 99.48%: 100%|██████████| 140/140 [00:01<00:00, 87.39it/s]\n",
      "[18 / 30]   Val: Loss = 0.06420, Accuracy = 98.56%: 100%|██████████| 4/4 [00:00<00:00, 81.63it/s]\n",
      "[19 / 30] Train: Loss = 0.02004, Accuracy = 99.50%: 100%|██████████| 140/140 [00:01<00:00, 86.79it/s]\n",
      "[19 / 30]   Val: Loss = 0.06502, Accuracy = 98.49%: 100%|██████████| 4/4 [00:00<00:00, 83.33it/s]\n",
      "[20 / 30] Train: Loss = 0.01725, Accuracy = 99.58%: 100%|██████████| 140/140 [00:01<00:00, 86.63it/s]\n",
      "[20 / 30]   Val: Loss = 0.06288, Accuracy = 98.49%: 100%|██████████| 4/4 [00:00<00:00, 81.64it/s]\n",
      "[21 / 30] Train: Loss = 0.01671, Accuracy = 99.58%: 100%|██████████| 140/140 [00:01<00:00, 85.73it/s]\n",
      "[21 / 30]   Val: Loss = 0.05744, Accuracy = 98.67%: 100%|██████████| 4/4 [00:00<00:00, 60.60it/s]\n",
      "[22 / 30] Train: Loss = 0.01453, Accuracy = 99.63%: 100%|██████████| 140/140 [00:01<00:00, 83.09it/s]\n",
      "[22 / 30]   Val: Loss = 0.05985, Accuracy = 98.56%: 100%|██████████| 4/4 [00:00<00:00, 81.63it/s]\n",
      "[23 / 30] Train: Loss = 0.01602, Accuracy = 99.59%: 100%|██████████| 140/140 [00:01<00:00, 81.68it/s]\n",
      "[23 / 30]   Val: Loss = 0.06109, Accuracy = 98.53%: 100%|██████████| 4/4 [00:00<00:00, 81.63it/s]\n",
      "[24 / 30] Train: Loss = 0.01251, Accuracy = 99.71%: 100%|██████████| 140/140 [00:01<00:00, 82.79it/s]\n",
      "[24 / 30]   Val: Loss = 0.06111, Accuracy = 98.60%: 100%|██████████| 4/4 [00:00<00:00, 74.07it/s]\n",
      "[25 / 30] Train: Loss = 0.01216, Accuracy = 99.70%: 100%|██████████| 140/140 [00:01<00:00, 83.14it/s]\n",
      "[25 / 30]   Val: Loss = 0.06329, Accuracy = 98.54%: 100%|██████████| 4/4 [00:00<00:00, 76.92it/s]\n",
      "[26 / 30] Train: Loss = 0.01092, Accuracy = 99.70%: 100%|██████████| 140/140 [00:01<00:00, 82.74it/s]\n",
      "[26 / 30]   Val: Loss = 0.06038, Accuracy = 98.68%: 100%|██████████| 4/4 [00:00<00:00, 81.63it/s]\n",
      "[27 / 30] Train: Loss = 0.01001, Accuracy = 99.76%: 100%|██████████| 140/140 [00:01<00:00, 83.14it/s]\n",
      "[27 / 30]   Val: Loss = 0.06240, Accuracy = 98.70%: 100%|██████████| 4/4 [00:00<00:00, 78.43it/s]\n",
      "[28 / 30] Train: Loss = 0.00928, Accuracy = 99.78%: 100%|██████████| 140/140 [00:01<00:00, 83.04it/s]\n",
      "[28 / 30]   Val: Loss = 0.05739, Accuracy = 98.74%: 100%|██████████| 4/4 [00:00<00:00, 67.80it/s]\n",
      "[29 / 30] Train: Loss = 0.00895, Accuracy = 99.79%: 100%|██████████| 140/140 [00:01<00:00, 82.11it/s]\n",
      "[29 / 30]   Val: Loss = 0.05966, Accuracy = 98.77%: 100%|██████████| 4/4 [00:00<00:00, 85.10it/s]\n",
      "[30 / 30] Train: Loss = 0.00799, Accuracy = 99.82%: 100%|██████████| 140/140 [00:01<00:00, 84.19it/s]\n",
      "[30 / 30]   Val: Loss = 0.05937, Accuracy = 98.74%: 100%|██████████| 4/4 [00:00<00:00, 76.92it/s]\n"
     ]
    }
   ],
   "source": [
    "pad_idx = tags_field.vocab.stoi['<pad>']\n",
    "\n",
    "model = TokenTaggerModel(vocab_size=len(tokens_field.vocab), tags_count=len(tags_field.vocab), pad_idx = pad_idx).to(DEVICE)\n",
    "\n",
    "criterion = nn.CrossEntropyLoss(ignore_index = pad_idx).to(DEVICE)\n",
    "optimizer = optim.Adam(model.parameters())\n",
    "\n",
    "trainer = ModelTrainer_Trigger(model, criterion, optimizer, pad_idx)\n",
    "\n",
    "fit(trainer, train_iter, epochs_count=30, val_iter=val_iter)"
   ]
  },
  {
   "cell_type": "code",
   "execution_count": 28,
   "metadata": {},
   "outputs": [
    {
     "name": "stderr",
     "output_type": "stream",
     "text": [
      "Test: Loss = 0.13770, Accuracy = 97.86%: 100%|██████████| 7/7 [00:00<00:00, 93.33it/s]\n"
     ]
    }
   ],
   "source": [
    "model = torch.load('TokenTaggerModel.pt')\n",
    "\n",
    "do_epoch(trainer, test_iter, is_train=False, name='Test:')"
   ]
  },
  {
   "cell_type": "code",
   "execution_count": 32,
   "metadata": {},
   "outputs": [
    {
     "name": "stdout",
     "output_type": "stream",
     "text": [
      "Precision = 96.35%, Recall = 95.44%, F1 = 95.89%\n"
     ]
    }
   ],
   "source": [
    "from conlleval import evaluate\n",
    "\n",
    "def eval_tagger(model, test_iter):\n",
    "    true_seqs, pred_seqs = [], []\n",
    "\n",
    "    model.eval()\n",
    "    with torch.no_grad():\n",
    "        for batch in test_iter:\n",
    "            pred = model.forward(batch.tokens.transpose(0, 1))\n",
    "            pred = pred.transpose(0, 1)\n",
    "            pred = pred.reshape((-1,pred.shape[2]))\n",
    "            true = batch.tags.reshape((-1))\n",
    "            \n",
    "            max_preds = pred.argmax(dim = 1)\n",
    "            non_pad_elements = (true != 0).nonzero()\n",
    "            pred = list(map(lambda y: tags_field.vocab.itos[y], max_preds[non_pad_elements].reshape((-1))))\n",
    "            true = list(map(lambda y: tags_field.vocab.itos[y], true[non_pad_elements].reshape((-1))))\n",
    "            pred = ' '.join(pred)\n",
    "            true = ' '.join(true)\n",
    "  \n",
    "            pred_seqs.append(pred)\n",
    "            true_seqs.append(true)\n",
    "            break\n",
    "            \n",
    "    print('Precision = {:.2f}%, Recall = {:.2f}%, F1 = {:.2f}%'.format(*evaluate(true_seqs, pred_seqs, verbose=False)))\n",
    "\n",
    "eval_tagger(model, test_iter)   \n"
   ]
  },
  {
   "cell_type": "code",
   "execution_count": 34,
   "metadata": {},
   "outputs": [
    {
     "name": "stderr",
     "output_type": "stream",
     "text": [
      "Test: Loss = 7.35298, Accuracy = 97.76%: 100%|██████████| 7/7 [00:00<00:00, 30.18it/s]\n"
     ]
    }
   ],
   "source": [
    "model = torch.load('TokenTaggerModel.pt')\n",
    "\n",
    "pad_idx = tags_field.vocab.stoi['<pad>']\n",
    "criterion = nn.CrossEntropyLoss().to(DEVICE)\n",
    "optimizer = optim.Adam(model.parameters())\n",
    "\n",
    "trainer = ModelTrainer_Trigger(model, criterion, optimizer, pad_idx)\n",
    "\n",
    "do_epoch(trainer, test_iter, is_train=False, name='Test:')"
   ]
  }
 ],
 "metadata": {
  "kernelspec": {
   "display_name": "Python 3.10.5 ('env': venv)",
   "language": "python",
   "name": "python3"
  },
  "language_info": {
   "codemirror_mode": {
    "name": "ipython",
    "version": 3
   },
   "file_extension": ".py",
   "mimetype": "text/x-python",
   "name": "python",
   "nbconvert_exporter": "python",
   "pygments_lexer": "ipython3",
   "version": "3.10.5"
  },
  "orig_nbformat": 4,
  "vscode": {
   "interpreter": {
    "hash": "8cb139c522e4819e3d090dc8ad216bec05e65d93fe5d3ba0b78a4e6871c48307"
   }
  }
 },
 "nbformat": 4,
 "nbformat_minor": 2
}
