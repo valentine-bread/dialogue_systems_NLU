{
 "cells": [
  {
   "cell_type": "code",
   "execution_count": 15,
   "metadata": {},
   "outputs": [
    {
     "name": "stderr",
     "output_type": "stream",
     "text": [
      "\"wget\" �� ���� ����७��� ��� ���譥�\n",
      "��������, �ᯮ��塞�� �ணࠬ��� ��� ������ 䠩���.\n"
     ]
    }
   ],
   "source": [
    "# !pip -qq install torchtext==0.3.1\n",
    "# !git clone https://github.com/MiuLab/SlotGated-SLU.git\n",
    "# !wget -qq https://raw.githubusercontent.com/yandexdataschool/nlp_course/master/week08_multitask/conlleval.py"
   ]
  },
  {
   "cell_type": "code",
   "execution_count": 19,
   "metadata": {},
   "outputs": [
    {
     "data": {
      "text/plain": [
       "device(type='cuda', index=0)"
      ]
     },
     "execution_count": 19,
     "metadata": {},
     "output_type": "execute_result"
    }
   ],
   "source": [
    "import numpy as np\n",
    "\n",
    "import torch, random\n",
    "import torch.nn as nn\n",
    "import torch.nn.functional as F\n",
    "import torch.optim as optim\n",
    "\n",
    "if torch.cuda.is_available():\n",
    "    from torch.cuda import FloatTensor, LongTensor\n",
    "    DEVICE = torch.device('cuda:0')\n",
    "else:\n",
    "    from torch import FloatTensor, LongTensor\n",
    "    DEVICE = torch.device('cpu')\n",
    "\n",
    "SEED = 1234\n",
    "\n",
    "random.seed(SEED)\n",
    "np.random.seed(SEED)\n",
    "torch.manual_seed(SEED)\n",
    "torch.backends.cudnn.deterministic = True\n",
    "\n",
    "DEVICE"
   ]
  },
  {
   "cell_type": "code",
   "execution_count": 20,
   "metadata": {},
   "outputs": [
    {
     "name": "stdout",
     "output_type": "stream",
     "text": [
      "Vocab size = 869\n",
      "Tags count = 121\n",
      "Intents count = 21\n"
     ]
    }
   ],
   "source": [
    "import os \n",
    "\n",
    "def read_dataset(path):\n",
    "    with open(os.path.join(path, 'seq.in')) as f_words, \\\n",
    "            open(os.path.join(path, 'seq.out')) as f_tags, \\\n",
    "            open(os.path.join(path, 'label')) as f_intents:\n",
    "        \n",
    "        return [\n",
    "            (words.strip().split(), tags.strip().split(), intent.strip()) \n",
    "            for words, tags, intent in zip(f_words, f_tags, f_intents)\n",
    "        ]\n",
    "train_data = read_dataset('SlotGated-SLU/data/atis/train/')\n",
    "val_data = read_dataset('SlotGated-SLU/data/atis/valid/')\n",
    "test_data = read_dataset('SlotGated-SLU/data/atis/test/')\n",
    "\n",
    "intent_to_example = {example[2]: example for example in train_data}\n",
    "# for example in intent_to_example.values():\n",
    "#     print('Intent:\\t', example[2])\n",
    "#     print('Text:\\t', '\\t'.join(example[0]))\n",
    "#     print('Tags:\\t', '\\t'.join(example[1]))\n",
    "#     print()\n",
    "    \n",
    "from torchtext.data import Field, LabelField, Example, Dataset, BucketIterator\n",
    "\n",
    "tokens_field = Field()\n",
    "tags_field = Field(unk_token=None)\n",
    "intent_field = LabelField()\n",
    "\n",
    "fields = [('tokens', tokens_field), ('tags', tags_field), ('intent', intent_field)]\n",
    "\n",
    "train_dataset = Dataset([Example.fromlist(example, fields) for example in train_data], fields)\n",
    "val_dataset = Dataset([Example.fromlist(example, fields) for example in val_data], fields)\n",
    "test_dataset = Dataset([Example.fromlist(example, fields) for example in test_data], fields)\n",
    "\n",
    "tokens_field.build_vocab(train_dataset)\n",
    "tags_field.build_vocab(train_dataset)\n",
    "intent_field.build_vocab(train_dataset)\n",
    "\n",
    "print('Vocab size =', len(tokens_field.vocab))\n",
    "print('Tags count =', len(tags_field.vocab))\n",
    "print('Intents count =', len(intent_field.vocab))\n",
    "\n",
    "train_iter, val_iter, test_iter = BucketIterator.splits(\n",
    "    datasets=(train_dataset, val_dataset, test_dataset), batch_sizes=(32, 128, 128), \n",
    "    shuffle=True, device=DEVICE, sort=False\n",
    ")"
   ]
  },
  {
   "cell_type": "code",
   "execution_count": 21,
   "metadata": {},
   "outputs": [],
   "source": [
    "class TokenTaggerModel(nn.Module):\n",
    "    def __init__(self, vocab_size, tags_count, emb_dim=64, lstm_hidden_dim=128, num_layers=2, dropout_p=0.25, pad_idx = 0):\n",
    "        super().__init__()\n",
    "        \n",
    "        self.embeddings_layer = nn.Embedding(vocab_size, emb_dim, padding_idx = pad_idx)\n",
    "        self.dropout = nn.Dropout(dropout_p)\n",
    "        self.lstm_layer = nn.LSTM(input_size=emb_dim, hidden_size=lstm_hidden_dim, bidirectional=True, num_layers=num_layers, batch_first=True, dropout = dropout_p if num_layers > 1 else 0)\n",
    "        self.out_layer = nn.Linear(lstm_hidden_dim * 2, tags_count)\n",
    "\n",
    "    def forward(self, inputs):\n",
    "        projections =  self.dropout(self.embeddings_layer(inputs))\n",
    "        output_lstm, (_, _) = self.lstm_layer(projections)\n",
    "        \n",
    "        output = self.dropout(output_lstm)\n",
    "\n",
    "        output = self.out_layer(output)\n",
    "        # output = self.out_layer(output_lstm)\n",
    "        return output"
   ]
  },
  {
   "cell_type": "code",
   "execution_count": 22,
   "metadata": {},
   "outputs": [],
   "source": [
    "class ModelTrainer_Trigger():\n",
    "    def __init__(self, model, criterion, optimizer, pad_idx):\n",
    "        self.model = model\n",
    "        self.criterion = criterion\n",
    "        self.optimizer = optimizer\n",
    "        self.pad_idx = pad_idx\n",
    "        self.best_valid_loss = float('inf')\n",
    "        \n",
    "    def on_epoch_begin(self, is_train, name, batches_count):\n",
    "        \"\"\"\n",
    "        Initializes metrics\n",
    "        \"\"\"\n",
    "        self.epoch_loss = 0\n",
    "        self.correct_count, self.total_count = 0, 0\n",
    "        self.is_train = is_train\n",
    "        self.name = name\n",
    "        self.batches_count = batches_count\n",
    "        \n",
    "        self.model.train(is_train)\n",
    "        \n",
    "    def on_epoch_end(self):\n",
    "        \"\"\"\n",
    "        Outputs final metrics\n",
    "        \"\"\"\n",
    "        valid_loss = self.epoch_loss / self.batches_count\n",
    "        if not(self.is_train) and valid_loss < self.best_valid_loss:\n",
    "            self.best_valid_loss = valid_loss\n",
    "            torch.save(self.model, 'TokenTaggerModel.pt')\n",
    "            \n",
    "        return '{:>5s} Loss = {:.5f}, Accuracy = {:.2%}'.format(\n",
    "            self.name, self.epoch_loss / self.batches_count, self.correct_count / self.total_count\n",
    "        )\n",
    "        \n",
    "    def on_batch(self, batch):\n",
    "        \"\"\"\n",
    "        Performs forward and (if is_train) backward pass with optimization, updates metrics\n",
    "        \"\"\"\n",
    "        \n",
    "        logits = self.model(batch.tokens.transpose(0, 1))\n",
    "        \n",
    "        logits = logits.transpose(0, 1)       \n",
    "        logits = logits.reshape((-1,logits.shape[2]))\n",
    "        tags = batch.tags.reshape((-1))\n",
    "        loss = self.criterion(logits, tags)\n",
    "      \n",
    "        max_preds = logits.argmax(dim = 1) \n",
    "        non_pad_elements = (tags != self.pad_idx).nonzero()\n",
    "        correct = torch.sum(max_preds[non_pad_elements] == tags[non_pad_elements]).item()\n",
    "        self.correct_count += correct\n",
    "        self.total_count += tags[non_pad_elements].shape[0]\n",
    "        \n",
    "        if self.is_train:\n",
    "            loss.backward()\n",
    "            self.optimizer.step()\n",
    "            self.optimizer.zero_grad()\n",
    "        self.epoch_loss += loss.item()\n",
    "        \n",
    "import math\n",
    "from tqdm import tqdm\n",
    "tqdm.get_lock().locks = []\n",
    "\n",
    "\n",
    "def do_epoch(trainer, data_iter, is_train, name=None):\n",
    "    trainer.on_epoch_begin(is_train, name, batches_count=len(data_iter))\n",
    "    \n",
    "    with torch.autograd.set_grad_enabled(is_train):\n",
    "        with tqdm(total=trainer.batches_count) as progress_bar:\n",
    "            for i, batch in enumerate(data_iter):\n",
    "                batch_progress = trainer.on_batch(batch)\n",
    "\n",
    "                progress_bar.update()\n",
    "                progress_bar.set_description(batch_progress)\n",
    "                \n",
    "            epoch_progress = trainer.on_epoch_end()\n",
    "            progress_bar.set_description(epoch_progress)\n",
    "            progress_bar.refresh()\n",
    "\n",
    "            \n",
    "def fit(trainer, train_iter, epochs_count=1, val_iter=None):\n",
    "    best_val_loss = None\n",
    "    for epoch in range(epochs_count):\n",
    "        name_prefix = '[{} / {}] '.format(epoch + 1, epochs_count)\n",
    "        do_epoch(trainer, train_iter, is_train=True, name=name_prefix + 'Train:')\n",
    "        \n",
    "        if not val_iter is None:\n",
    "            do_epoch(trainer, val_iter, is_train=False, name=name_prefix + '  Val:')"
   ]
  },
  {
   "cell_type": "code",
   "execution_count": 23,
   "metadata": {},
   "outputs": [
    {
     "name": "stderr",
     "output_type": "stream",
     "text": [
      "[1 / 30] Train: Loss = 1.57173, Accuracy = 70.71%: 100%|██████████| 140/140 [00:02<00:00, 49.69it/s]\n",
      "[1 / 30]   Val: Loss = 0.82024, Accuracy = 81.67%: 100%|██████████| 4/4 [00:00<00:00, 37.04it/s]\n",
      "[2 / 30] Train: Loss = 0.59988, Accuracy = 87.15%: 100%|██████████| 140/140 [00:02<00:00, 50.78it/s]\n",
      "[2 / 30]   Val: Loss = 0.41893, Accuracy = 90.65%: 100%|██████████| 4/4 [00:00<00:00, 37.74it/s]\n",
      "[3 / 30] Train: Loss = 0.34554, Accuracy = 92.17%: 100%|██████████| 140/140 [00:02<00:00, 50.78it/s]\n",
      "[3 / 30]   Val: Loss = 0.27018, Accuracy = 93.76%: 100%|██████████| 4/4 [00:00<00:00, 38.47it/s]\n",
      "[4 / 30] Train: Loss = 0.23770, Accuracy = 94.45%: 100%|██████████| 140/140 [00:02<00:00, 50.13it/s]\n",
      "[4 / 30]   Val: Loss = 0.19522, Accuracy = 95.25%: 100%|██████████| 4/4 [00:00<00:00, 36.70it/s]\n",
      "[5 / 30] Train: Loss = 0.17491, Accuracy = 95.94%: 100%|██████████| 140/140 [00:02<00:00, 50.78it/s]\n",
      "[5 / 30]   Val: Loss = 0.15624, Accuracy = 96.07%: 100%|██████████| 4/4 [00:00<00:00, 36.36it/s]\n",
      "[6 / 30] Train: Loss = 0.13369, Accuracy = 96.89%: 100%|██████████| 140/140 [00:02<00:00, 51.99it/s]\n",
      "[6 / 30]   Val: Loss = 0.12646, Accuracy = 96.76%: 100%|██████████| 4/4 [00:00<00:00, 38.45it/s]\n",
      "[7 / 30] Train: Loss = 0.10530, Accuracy = 97.54%: 100%|██████████| 140/140 [00:02<00:00, 51.49it/s]\n",
      "[7 / 30]   Val: Loss = 0.10914, Accuracy = 97.44%: 100%|██████████| 4/4 [00:00<00:00, 30.08it/s]\n",
      "[8 / 30] Train: Loss = 0.08893, Accuracy = 97.92%: 100%|██████████| 140/140 [00:02<00:00, 51.40it/s]\n",
      "[8 / 30]   Val: Loss = 0.09540, Accuracy = 97.81%: 100%|██████████| 4/4 [00:00<00:00, 37.38it/s]\n",
      "[9 / 30] Train: Loss = 0.07196, Accuracy = 98.33%: 100%|██████████| 140/140 [00:02<00:00, 50.80it/s]\n",
      "[9 / 30]   Val: Loss = 0.08623, Accuracy = 98.00%: 100%|██████████| 4/4 [00:00<00:00, 38.46it/s]\n",
      "[10 / 30] Train: Loss = 0.05988, Accuracy = 98.58%: 100%|██████████| 140/140 [00:02<00:00, 51.76it/s]\n",
      "[10 / 30]   Val: Loss = 0.07483, Accuracy = 98.30%: 100%|██████████| 4/4 [00:00<00:00, 36.69it/s]\n",
      "[11 / 30] Train: Loss = 0.04987, Accuracy = 98.84%: 100%|██████████| 140/140 [00:02<00:00, 50.61it/s]\n",
      "[11 / 30]   Val: Loss = 0.07432, Accuracy = 98.11%: 100%|██████████| 4/4 [00:00<00:00, 37.38it/s]\n",
      "[12 / 30] Train: Loss = 0.04179, Accuracy = 98.93%: 100%|██████████| 140/140 [00:02<00:00, 52.53it/s]\n",
      "[12 / 30]   Val: Loss = 0.06667, Accuracy = 98.46%: 100%|██████████| 4/4 [00:00<00:00, 38.46it/s]\n",
      "[13 / 30] Train: Loss = 0.03703, Accuracy = 99.11%: 100%|██████████| 140/140 [00:02<00:00, 49.75it/s]\n",
      "[13 / 30]   Val: Loss = 0.06437, Accuracy = 98.51%: 100%|██████████| 4/4 [00:00<00:00, 37.73it/s]\n",
      "[14 / 30] Train: Loss = 0.03060, Accuracy = 99.25%: 100%|██████████| 140/140 [00:02<00:00, 52.67it/s]\n",
      "[14 / 30]   Val: Loss = 0.06307, Accuracy = 98.58%: 100%|██████████| 4/4 [00:00<00:00, 34.48it/s]\n",
      "[15 / 30] Train: Loss = 0.02759, Accuracy = 99.35%: 100%|██████████| 140/140 [00:02<00:00, 48.31it/s]\n",
      "[15 / 30]   Val: Loss = 0.06604, Accuracy = 98.47%: 100%|██████████| 4/4 [00:00<00:00, 40.00it/s]\n",
      "[16 / 30] Train: Loss = 0.02302, Accuracy = 99.44%: 100%|██████████| 140/140 [00:02<00:00, 51.72it/s]\n",
      "[16 / 30]   Val: Loss = 0.06220, Accuracy = 98.58%: 100%|██████████| 4/4 [00:00<00:00, 37.38it/s]\n",
      "[17 / 30] Train: Loss = 0.02140, Accuracy = 99.46%: 100%|██████████| 140/140 [00:02<00:00, 49.72it/s]\n",
      "[17 / 30]   Val: Loss = 0.06263, Accuracy = 98.54%: 100%|██████████| 4/4 [00:00<00:00, 38.84it/s]\n",
      "[18 / 30] Train: Loss = 0.01973, Accuracy = 99.48%: 100%|██████████| 140/140 [00:02<00:00, 51.17it/s]\n",
      "[18 / 30]   Val: Loss = 0.05831, Accuracy = 98.72%: 100%|██████████| 4/4 [00:00<00:00, 36.36it/s]\n",
      "[19 / 30] Train: Loss = 0.01550, Accuracy = 99.65%: 100%|██████████| 140/140 [00:02<00:00, 52.71it/s]\n",
      "[19 / 30]   Val: Loss = 0.05627, Accuracy = 98.70%: 100%|██████████| 4/4 [00:00<00:00, 35.71it/s]\n",
      "[20 / 30] Train: Loss = 0.01626, Accuracy = 99.56%: 100%|██████████| 140/140 [00:02<00:00, 52.12it/s]\n",
      "[20 / 30]   Val: Loss = 0.05975, Accuracy = 98.60%: 100%|██████████| 4/4 [00:00<00:00, 41.67it/s]\n",
      "[21 / 30] Train: Loss = 0.01387, Accuracy = 99.65%: 100%|██████████| 140/140 [00:02<00:00, 52.40it/s]\n",
      "[21 / 30]   Val: Loss = 0.05920, Accuracy = 98.61%: 100%|██████████| 4/4 [00:00<00:00, 41.67it/s]\n",
      "[22 / 30] Train: Loss = 0.01213, Accuracy = 99.70%: 100%|██████████| 140/140 [00:02<00:00, 52.43it/s]\n",
      "[22 / 30]   Val: Loss = 0.05987, Accuracy = 98.75%: 100%|██████████| 4/4 [00:00<00:00, 43.48it/s]\n",
      "[23 / 30] Train: Loss = 0.01113, Accuracy = 99.71%: 100%|██████████| 140/140 [00:02<00:00, 53.74it/s]\n",
      "[23 / 30]   Val: Loss = 0.06086, Accuracy = 98.67%: 100%|██████████| 4/4 [00:00<00:00, 44.44it/s]\n",
      "[24 / 30] Train: Loss = 0.01053, Accuracy = 99.74%: 100%|██████████| 140/140 [00:02<00:00, 55.04it/s]\n",
      "[24 / 30]   Val: Loss = 0.05781, Accuracy = 98.84%: 100%|██████████| 4/4 [00:00<00:00, 41.67it/s]\n",
      "[25 / 30] Train: Loss = 0.01017, Accuracy = 99.75%: 100%|██████████| 140/140 [00:02<00:00, 52.69it/s]\n",
      "[25 / 30]   Val: Loss = 0.05936, Accuracy = 98.70%: 100%|██████████| 4/4 [00:00<00:00, 41.24it/s]\n",
      "[26 / 30] Train: Loss = 0.00871, Accuracy = 99.78%: 100%|██████████| 140/140 [00:02<00:00, 50.05it/s]\n",
      "[26 / 30]   Val: Loss = 0.05878, Accuracy = 98.70%: 100%|██████████| 4/4 [00:00<00:00, 33.33it/s]\n",
      "[27 / 30] Train: Loss = 0.00752, Accuracy = 99.82%: 100%|██████████| 140/140 [00:02<00:00, 51.57it/s]\n",
      "[27 / 30]   Val: Loss = 0.06257, Accuracy = 98.67%: 100%|██████████| 4/4 [00:00<00:00, 40.40it/s]\n",
      "[28 / 30] Train: Loss = 0.00757, Accuracy = 99.83%: 100%|██████████| 140/140 [00:02<00:00, 50.07it/s]\n",
      "[28 / 30]   Val: Loss = 0.06094, Accuracy = 98.74%: 100%|██████████| 4/4 [00:00<00:00, 40.82it/s]\n",
      "[29 / 30] Train: Loss = 0.00739, Accuracy = 99.82%: 100%|██████████| 140/140 [00:02<00:00, 49.59it/s]\n",
      "[29 / 30]   Val: Loss = 0.06275, Accuracy = 98.82%: 100%|██████████| 4/4 [00:00<00:00, 41.24it/s]\n",
      "[30 / 30] Train: Loss = 0.00755, Accuracy = 99.80%: 100%|██████████| 140/140 [00:02<00:00, 49.63it/s]\n",
      "[30 / 30]   Val: Loss = 0.05831, Accuracy = 98.81%: 100%|██████████| 4/4 [00:00<00:00, 38.46it/s]\n"
     ]
    }
   ],
   "source": [
    "tokens_pad_idx = tokens_field.vocab.stoi[tokens_field.pad_token]\n",
    "tags_pad_idx = tags_field.vocab.stoi[tags_field.pad_token]\n",
    "\n",
    "model = TokenTaggerModel(vocab_size=len(tokens_field.vocab), tags_count=len(tags_field.vocab), pad_idx = tokens_pad_idx).to(DEVICE)\n",
    "\n",
    "criterion = nn.CrossEntropyLoss(ignore_index = tags_pad_idx).to(DEVICE)\n",
    "optimizer = optim.Adam(model.parameters())\n",
    "\n",
    "trainer = ModelTrainer_Trigger(model, criterion, optimizer, tags_pad_idx)\n",
    "\n",
    "fit(trainer, train_iter, epochs_count=30, val_iter=val_iter)"
   ]
  },
  {
   "cell_type": "code",
   "execution_count": 26,
   "metadata": {},
   "outputs": [
    {
     "name": "stderr",
     "output_type": "stream",
     "text": [
      "Test: Loss = 0.13111, Accuracy = 97.93%: 100%|██████████| 7/7 [00:00<00:00, 28.34it/s]\n"
     ]
    }
   ],
   "source": [
    "model = torch.load('TokenTaggerModel.pt')\n",
    "\n",
    "do_epoch(trainer, test_iter, is_train=False, name='Test:')"
   ]
  },
  {
   "cell_type": "code",
   "execution_count": 27,
   "metadata": {},
   "outputs": [
    {
     "name": "stdout",
     "output_type": "stream",
     "text": [
      "Precision = 95.28%, Recall = 94.51%, F1 = 94.89%\n"
     ]
    }
   ],
   "source": [
    "from conlleval import evaluate\n",
    "\n",
    "def eval_tagger(model, test_iter):\n",
    "    pad_idx = tags_field.vocab.stoi[tags_field.pad_token]\n",
    "    true_seqs, pred_seqs = [], []\n",
    "\n",
    "    model.eval()\n",
    "    with torch.no_grad():\n",
    "        for batch in test_iter:\n",
    "            pred = model.forward(batch.tokens.transpose(0, 1))\n",
    "            pred = pred.transpose(0, 1)\n",
    "            pred = pred.reshape((-1,pred.shape[2]))\n",
    "            true = batch.tags.reshape((-1))\n",
    "            \n",
    "            max_preds = pred.argmax(dim = 1)\n",
    "            non_pad_elements = (true != pad_idx).nonzero()\n",
    "            true = list(map(lambda y: tags_field.vocab.itos[y], true[non_pad_elements].reshape((-1))))\n",
    "            pred = list(map(lambda y: tags_field.vocab.itos[y], max_preds[non_pad_elements].reshape((-1))))\n",
    "            pred = ' '.join(pred)\n",
    "            true = ' '.join(true)\n",
    "  \n",
    "            pred_seqs.append(pred)\n",
    "            true_seqs.append(true)\n",
    "            \n",
    "    print('Precision = {:.2f}%, Recall = {:.2f}%, F1 = {:.2f}%'.format(*evaluate(true_seqs, pred_seqs, verbose=False)))\n",
    "\n",
    "eval_tagger(model, test_iter)   \n"
   ]
  },
  {
   "cell_type": "code",
   "execution_count": 8,
   "metadata": {},
   "outputs": [
    {
     "name": "stderr",
     "output_type": "stream",
     "text": [
      "Test: Loss = 6.38924, Accuracy = 97.75%: 100%|██████████| 7/7 [00:00<00:00, 35.90it/s]\n"
     ]
    }
   ],
   "source": [
    "model = torch.load('TokenTaggerModel.pt')\n",
    "\n",
    "pad_idx = tags_field.vocab.stoi['<pad>']\n",
    "criterion = nn.CrossEntropyLoss().to(DEVICE)\n",
    "optimizer = optim.Adam(model.parameters())\n",
    "\n",
    "trainer = ModelTrainer_Trigger(model, criterion, optimizer, pad_idx)\n",
    "\n",
    "do_epoch(trainer, test_iter, is_train=False, name='Test:')"
   ]
  }
 ],
 "metadata": {
  "kernelspec": {
   "display_name": "Python 3.10.5 ('env': venv)",
   "language": "python",
   "name": "python3"
  },
  "language_info": {
   "codemirror_mode": {
    "name": "ipython",
    "version": 3
   },
   "file_extension": ".py",
   "mimetype": "text/x-python",
   "name": "python",
   "nbconvert_exporter": "python",
   "pygments_lexer": "ipython3",
   "version": "3.10.5"
  },
  "orig_nbformat": 4,
  "vscode": {
   "interpreter": {
    "hash": "8cb139c522e4819e3d090dc8ad216bec05e65d93fe5d3ba0b78a4e6871c48307"
   }
  }
 },
 "nbformat": 4,
 "nbformat_minor": 2
}
